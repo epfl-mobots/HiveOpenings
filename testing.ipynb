{
 "cells": [
  {
   "cell_type": "markdown",
   "id": "179db857",
   "metadata": {},
   "source": [
    "## Just some testing of libOpenings"
   ]
  },
  {
   "cell_type": "code",
   "execution_count": 1,
   "id": "0588e4ce",
   "metadata": {},
   "outputs": [],
   "source": [
    "from libOpenings import *\n",
    "pd.set_option('display.width', 1000)"
   ]
  },
  {
   "cell_type": "code",
   "execution_count": 2,
   "id": "8418c531",
   "metadata": {},
   "outputs": [
    {
     "name": "stdout",
     "output_type": "stream",
     "text": [
      "               start_opening               end_opening  hive_nb comment\n",
      "0  2024-09-09 20:30:00+02:00 2024-09-09 20:35:00+02:00        1     NaN\n",
      "1  2024-09-09 20:30:00+02:00 2024-09-09 20:35:00+02:00        2     NaN\n",
      "2  2024-09-12 17:20:00+02:00 2024-09-12 17:50:00+02:00        1     NaN\n",
      "3  2024-09-12 17:20:00+02:00 2024-09-12 17:50:00+02:00        2     NaN\n",
      "4  2024-09-13 17:30:00+02:00 2024-09-13 18:30:00+02:00        1     NaN\n",
      "..                       ...                       ...      ...     ...\n",
      "57 2025-01-24 14:30:00+01:00 2025-01-24 15:30:00+01:00        2  Fed h2\n",
      "58 2025-01-29 09:50:00+01:00 2025-01-29 10:05:00+01:00        1     NaN\n",
      "59 2025-01-29 09:50:00+01:00 2025-01-29 10:05:00+01:00        2     NaN\n",
      "60 2025-07-09 11:20:00+02:00 2025-07-09 11:50:00+02:00        1     NaN\n",
      "61 2025-07-11 12:30:00+02:00 2025-07-11 12:40:00+02:00        1     NaN\n",
      "\n",
      "[62 rows x 4 columns]\n"
     ]
    }
   ],
   "source": [
    "print(openings_df) # This comes from the libOpenings.py file"
   ]
  },
  {
   "cell_type": "code",
   "execution_count": 3,
   "id": "7288ff87",
   "metadata": {},
   "outputs": [
    {
     "name": "stdout",
     "output_type": "stream",
     "text": [
      "2024-09-09 20:29:00+02:00\n",
      "2025-07-09 11:19:00+02:00\n",
      "2025-07-09 12:50:01+02:00\n"
     ]
    }
   ],
   "source": [
    "example_list_ts = [\n",
    "    '2024-09-09 18:29:00',\n",
    "    '2024-09-09 18:30:00',\n",
    "    '2024-09-09 18:35:00',\n",
    "    '2024-09-09 18:36:00',\n",
    "    '2025-07-09 09:19:00',\n",
    "    '2025-07-09 09:49:00',\n",
    "    '2025-07-09 09:50:00',\n",
    "    '2025-07-09 09:50:40',\n",
    "    '2025-07-09 09:51:00',\n",
    "    '2025-07-09 09:51:20',\n",
    "    '2025-07-09 10:50:01',\n",
    "]\n",
    "# Turn the list into a pandas datetime series\n",
    "example_list_ts = pd.to_datetime(example_list_ts, format='%Y-%m-%d %H:%M:%S')\n",
    "# Make them tz aware as UTC\n",
    "example_list_ts = example_list_ts.tz_localize('UTC')\n",
    "# Convert to CET\n",
    "example_list_ts = example_list_ts.tz_convert('CET')\n",
    "\n",
    "filtered_ts = filter_timestamps(example_list_ts, 1)\n",
    "for ts in filtered_ts:\n",
    "    print(ts)"
   ]
  }
 ],
 "metadata": {
  "kernelspec": {
   "display_name": "base",
   "language": "python",
   "name": "python3"
  },
  "language_info": {
   "codemirror_mode": {
    "name": "ipython",
    "version": 3
   },
   "file_extension": ".py",
   "mimetype": "text/x-python",
   "name": "python",
   "nbconvert_exporter": "python",
   "pygments_lexer": "ipython3",
   "version": "3.12.2"
  }
 },
 "nbformat": 4,
 "nbformat_minor": 5
}
